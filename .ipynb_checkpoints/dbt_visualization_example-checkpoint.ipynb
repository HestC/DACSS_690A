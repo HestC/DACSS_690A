
{
 "cells": [
  {
   "cell_type": "markdown",
   "metadata": {},
   "source": [
    "# Visualizing DBT Pipeline Outputs in Jupyter Notebook\n",
    "This notebook demonstrates how to connect to a PostgreSQL database and visualize the outputs of a DBT pipeline."
   ]
  },
  {
   "cell_type": "code",
   "execution_count": null,
   "metadata": {},
   "outputs": [],
   "source": [
    "import pandas as pd\n",
    "from sqlalchemy import create_engine\n",
    "\n",
    "# PostgreSQL connection string from DBT example\n",
    "db_connection_url = \"postgresql://u5h2s7shhkqeo5:pf373bc6d5cddc47f95a938f4914e895c868ca1e01fc5eeb79ad7413b71c6db40@c97r84s7psuajm.cluster-czrs8kj4isg7.us-east-1.rds.amazonaws.com:5432/d9snqvovhsjpqs\"\n",
    "\n",
    "# Create SQLAlchemy engine\n",
    "engine = create_engine(db_connection_url)\n",
    "\n",
    "# Test connection and list the tables\n",
    "tables = pd.read_sql(\"SELECT table_name FROM information_schema.tables WHERE table_schema='public'\", engine)\n",
    "tables"
   ]
  },
  {
   "cell_type": "markdown",
   "metadata": {},
   "source": [
    "## Query and Visualize Data"
   ]
  },
  {
   "cell_type": "code",
   "execution_count": null,
   "metadata": {},
   "outputs": [],
   "source": [
    "# Query sales data\n",
    "sales_query = '''\n",
    "SELECT order_date, SUM(total_price) as total_revenue, COUNT(order_id) as total_orders\n",
    "FROM stg_sales\n",
    "GROUP BY order_date\n",
    "ORDER BY order_date;\n",
    "'''\n",
    "sales_data = pd.read_sql(sales_query, engine)\n",
    "\n",
    "# Display the first few rows\n",
    "sales_data.head()"
   ]
  },
  {
   "cell_type": "code",
   "execution_count": null,
   "metadata": {},
   "outputs": [],
   "source": [
    "import matplotlib.pyplot as plt\n",
    "import seaborn as sns\n",
    "\n",
    "# Set plot size\n",
    "plt.figure(figsize=(10, 6))\n",
    "\n",
    "# Plot total revenue over time\n",
    "sns.lineplot(data=sales_data, x='order_date', y='total_revenue', marker='o')\n",
    "\n",
    "# Add labels and title\n",
    "plt.title('Total Revenue Over Time')\n",
    "plt.xlabel('Order Date')\n",
    "plt.ylabel('Total Revenue ($)')\n",
    "plt.xticks(rotation=45)\n",
    "\n",
    "# Show the plot\n",
    "plt.tight_layout()\n",
    "plt.show()"
   ]
  },
  {
   "cell_type": "code",
   "execution_count": null,
   "metadata": {},
   "outputs": [],
   "source": [
    "# Plot total orders over time\n",
    "plt.figure(figsize=(10, 6))\n",
    "\n",
    "sns.lineplot(data=sales_data, x='order_date', y='total_orders', marker='o', color='green')\n",
    "\n",
    "# Add labels and title\n",
    "plt.title('Total Orders Over Time')\n",
    "plt.xlabel('Order Date')\n",
    "plt.ylabel('Total Orders')\n",
    "plt.xticks(rotation=45)\n",
    "\n",
    "plt.tight_layout()\n",
    "plt.show()"
   ]
  },
  {
   "cell_type": "code",
   "execution_count": null,
   "metadata": {},
   "outputs": [],
   "source": [
    "# Query top products by revenue\n",
    "product_query = '''\n",
    "SELECT p.product_name, SUM(s.total_price) as total_revenue\n",
    "FROM stg_sales s\n",
    "JOIN stg_products p ON s.product_id = p.product_id\n",
    "GROUP BY p.product_name\n",
    "ORDER BY total_revenue DESC\n",
    "LIMIT 10;\n",
    "'''\n",
    "product_data = pd.read_sql(product_query, engine)\n",
    "\n",
    "# Plot top products by revenue\n",
    "plt.figure(figsize=(10, 6))\n",
    "sns.barplot(data=product_data, x='total_revenue', y='product_name', palette='Blues_d')\n",
    "\n",
    "# Add labels and title\n",
    "plt.title('Top 10 Products by Revenue')\n",
    "plt.xlabel('Total Revenue ($)')\n",
    "plt.ylabel('Product')\n",
    "\n",
    "plt.tight_layout()\n",
    "plt.show()"
   ]
  }
 ],
 "metadata": {
  "kernelspec": {
   "display_name": "Python 3",
   "language": "python",
   "name": "python3"
  },
  "language_info": {
   "codemirror_mode": {
    "name": "ipython",
    "version": 3
   },
   "file_extension": ".py",
   "mimetype": "text/x-python",
   "name": "python",
   "nbconvert_exporter": "python",
   "version": "3.9.0"
  }
 },
 "nbformat": 4,
 "nbformat_minor": 5
}
