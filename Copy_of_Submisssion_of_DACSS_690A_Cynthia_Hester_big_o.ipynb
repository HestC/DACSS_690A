{
  "nbformat": 4,
  "nbformat_minor": 0,
  "metadata": {
    "colab": {
      "provenance": [],
      "include_colab_link": true
    },
    "kernelspec": {
      "name": "python3",
      "display_name": "Python 3"
    },
    "language_info": {
      "name": "python"
    }
  },
  "cells": [
    {
      "cell_type": "markdown",
      "metadata": {
        "id": "view-in-github",
        "colab_type": "text"
      },
      "source": [
        "<a href=\"https://colab.research.google.com/github/HestC/DACSS_690a/blob/main/Copy_of_Submisssion_of_DACSS_690A_Cynthia_Hester_big_o.ipynb\" target=\"_parent\"><img src=\"https://colab.research.google.com/assets/colab-badge.svg\" alt=\"Open In Colab\"/></a>"
      ]
    },
    {
      "cell_type": "markdown",
      "source": [
        "# Big-O Notation Practice Problems\n",
        "\n",
        "## Instructions: For each of the following code snippets, determine the Big-O notation that best describes the time complexity of the algorithm.\n",
        "\n",
        "## Make a copy of this file and attach the submission to the google classroom assignment"
      ],
      "metadata": {
        "id": "u1M6_HkXw-ii"
      }
    },
    {
      "cell_type": "code",
      "source": [
        "# Problem 1\n",
        "def problem1(n):\n",
        "  \"\"\"What is the Big-O of this function?\"\"\"\n",
        "  for i in range(n):\n",
        "    print(i)"
      ],
      "metadata": {
        "id": "jd2HzEuwxCyk"
      },
      "execution_count": null,
      "outputs": []
    },
    {
      "cell_type": "markdown",
      "source": [
        "**Problem 1**\n",
        "\n",
        "**Analysis:**\n",
        "\n",
        "The total time complexity is:\n",
        "\n",
        "**Loop:**\n",
        "The for loop runs *n times*\n",
        "operations per iteration: each iteration *O(1)*\n",
        "\n",
        "\n",
        "**Big-O Complexity:**\n",
        "\n",
        "The overall time complexity *O(n)*, as the loop executes *n times*, with each iteration taking constant time, which is *linear*  \n",
        "time complexity.\n",
        "\n",
        "*******************************************\n",
        "\n",
        "**Solution:**\n",
        "\n",
        "The Big-O notation for the *problem1(n*) function is:  $n \\times O(1) = O(n)$\n",
        "\n"
      ],
      "metadata": {
        "id": "jz5eWAEW2OCw"
      }
    },
    {
      "cell_type": "code",
      "source": [
        "# Problem 2\n",
        "def problem2(n):\n",
        "  \"\"\"What is the Big-O of this function?\"\"\"\n",
        "  for i in range(n):\n",
        "    for j in range(n):\n",
        "      print(i, j)"
      ],
      "metadata": {
        "id": "f2wvke3nxF1B"
      },
      "execution_count": null,
      "outputs": []
    },
    {
      "cell_type": "markdown",
      "source": [
        "\\"
      ],
      "metadata": {
        "id": "X8VosHgOYcQy"
      }
    },
    {
      "cell_type": "markdown",
      "source": [
        "**Problem 2**\n",
        "\n",
        "**Analysis:**\n",
        "\n",
        "Outer Loop *i* : Runs *n* times.\n",
        "\n",
        "Inner Loop *j*: For each iteration of the outer loop, the inner loop also runs *n* times.\n",
        "\n",
        "\n",
        "**Count total iterations - Big-O Complexity:**\n",
        "\n",
        "The inner loop runs *n* times for each of the *n* iterations of the outer loop, resulting in n×n = $(n^2)$ total executions of print*(i, j)*.\n",
        "\n",
        "******************************************\n",
        "\n",
        "**Solution:**\n",
        "\n",
        "The total time complexity of the function *problem2(n)* is:\n",
        "\n",
        "$O(n^2)$\n",
        "\n"
      ],
      "metadata": {
        "id": "qmfiG97e_R4j"
      }
    },
    {
      "cell_type": "code",
      "source": [
        "# Problem 3\n",
        "def problem3(n):\n",
        "  \"\"\"What is the Big-O of this function?\"\"\"\n",
        "  print(n)"
      ],
      "metadata": {
        "id": "IACQ0k3ixHrk"
      },
      "execution_count": null,
      "outputs": []
    },
    {
      "cell_type": "markdown",
      "source": [
        "Problem 3\n",
        "\n",
        "\n",
        "**Analysis**:\n",
        "\n",
        "Since function only has a single line of code: *print(n*).\n",
        "\n",
        "The *print(n)* statement is a simple operation that outputs the value of *n.*\n",
        "\n",
        "Therefore, regardless of the size of *n*, this function always executes exactly once and\n",
        "takes the same amount of time to complete.\n",
        "\n",
        "\n",
        "\n",
        "\n",
        "\n",
        "\n",
        "**Big-O - Time Complexity:**\n",
        "\n",
        "Since there’s only one operation, *print(n)*, it takes a constant amount of time to execute.\n",
        "\n",
        "In Big-O notation, a constant-time operation is represented as *O(1),* meaning it doesn’t depend on the size of the input *n*.\n",
        "\n",
        "*******************************************\n",
        "\n",
        "**Solution**:\n",
        "\n",
        "\n",
        "\n",
        "The Big-O notation for the function problem3(n) is: *O(1)*\n"
      ],
      "metadata": {
        "id": "Vd9E1tJYROec"
      }
    },
    {
      "cell_type": "code",
      "source": [
        "# Problem 4\n",
        "def problem4(n):\n",
        "  \"\"\"What is the Big-O of this function?\"\"\"\n",
        "  i = 1\n",
        "  while i < n:\n",
        "    i *= 2\n",
        "    print(i)"
      ],
      "metadata": {
        "id": "IP7gon7lxLEn"
      },
      "execution_count": null,
      "outputs": []
    },
    {
      "cell_type": "markdown",
      "source": [
        "Problem 4\n",
        "\n"
      ],
      "metadata": {
        "id": "2iPEWBCQYSCV"
      }
    },
    {
      "cell_type": "markdown",
      "source": [
        "**Analysis:**\n",
        "\n",
        "\n",
        "Starting with *i = 1*, the value of i doubles on each iteration: *i = 2, 4, 8, ...*\n",
        "\n",
        "This means *i* grows exponentially with each iteration of the loop.\n",
        "\n",
        "The loop will terminate when *i*  becomes equal to or greater than *n.*\n",
        "\n",
        "\n",
        "\n",
        "\n",
        "**Big-O - Time Complexity:**\n",
        "\n",
        "\n",
        "Counting the Number of Iterations:\n",
        "\n",
        "Since *i* doubles on each iteration, the number of times the loop runs is the number of times you can double *i* until it reaches n.\n",
        "This can be expressed as solving for *k* in the inequality:\n",
        "\n",
        "$2^k \\geq n$\n",
        "\n",
        "\n",
        "\n",
        "Now taking the logarithm base 2 of both sides, we get:\n",
        "\n",
        "$k \\approx \\log_2(n)$\n",
        "\n",
        "\n",
        "\n",
        "Therefore,the loop runs at approximately $\\ \\log_2(n) $ times.\n",
        "\n",
        "----------------------------------------------------\n",
        "\n",
        "**Solution:**\n",
        "\n",
        "\n",
        "\n",
        "\n",
        "  Since the *print(i*) operation inside the loop is constant-time O(1) and it runs approximately log⁡2(n)times, the overall time complexity of the function is O(log⁡2(n)).\n",
        "\n",
        "  In Big-O notation, the base of the logarithm is omitted, so it can written as the time complexity of $O(\\log n)$.\n",
        "\n",
        "\n",
        "\n",
        "\n",
        "Therefore, the Big-O notation for the function problem4(n) is: $O(\\log n)$ which means that the function has logarithmic time complexity, as the number of iterations grows logarithmically with the input size *n*.\n",
        "\n",
        "\n",
        "\n",
        "\n",
        "\n",
        "\n"
      ],
      "metadata": {
        "id": "RQClKaNHa70C"
      }
    },
    {
      "source": [
        "# Problem 5\n",
        "\n",
        "def problem5(n):\n",
        "  \"\"\"What is the Big-O of this function?\"\"\"\n",
        "  for i in range(n):\n",
        "    print(i)\n",
        "  for j in range(n):\n",
        "    print(j)"
      ],
      "cell_type": "code",
      "metadata": {
        "id": "SK_9Oo7Qw3b-"
      },
      "execution_count": null,
      "outputs": []
    },
    {
      "cell_type": "markdown",
      "source": [
        "Problem 5"
      ],
      "metadata": {
        "id": "T2OOGsJxpdP-"
      }
    },
    {
      "cell_type": "markdown",
      "source": [
        "Analysis:"
      ],
      "metadata": {
        "id": "xJwmsFUhpjJX"
      }
    },
    {
      "cell_type": "markdown",
      "source": [
        "\n",
        "\n",
        "\n",
        "*First Loop (for i in range(n)):*\n",
        "\n",
        "  The first loop iterates n times, from i = 0 to i = n-1.\n",
        "\n",
        "  Each iteration performs a constant-time operation: *print(i)*.\n",
        "\n",
        "  Therefore, the time complexity of the first loop is O(n).\n",
        "\n",
        "\n",
        "\n",
        "\n",
        "  *Second Loop (for j in range(n)):*\n",
        "  \n",
        "\n",
        "  *The second loop* is independent of the first loop and also iterates *n* times\n",
        "\n",
        "  from *j = 0 to j = n-1*.\n",
        "\n",
        "  Each iteration performs a constant-time operation: *print(j)*.\n",
        "\n",
        "  Therefore, the time complexity of the second loop is *O(n)*.\n",
        "\n",
        "\n",
        "  *************************************************************\n",
        "\n",
        "  **Solution:**\n",
        "\n",
        "  The Big-O notation for the function problem5(n) is: ***O(n)***"
      ],
      "metadata": {
        "id": "0SVeBTMjpIdV"
      }
    }
  ]
}