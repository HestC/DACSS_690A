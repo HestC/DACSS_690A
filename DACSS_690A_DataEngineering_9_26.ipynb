{
  "cells": [
    {
      "cell_type": "markdown",
      "metadata": {
        "id": "view-in-github",
        "colab_type": "text"
      },
      "source": [
        "<a href=\"https://colab.research.google.com/github/HestC/DACSS_690a/blob/main/DACSS_690A_DataEngineering_9_26.ipynb\" target=\"_parent\"><img src=\"https://colab.research.google.com/assets/colab-badge.svg\" alt=\"Open In Colab\"/></a>"
      ]
    },
    {
      "cell_type": "markdown",
      "id": "333d6f1d",
      "metadata": {
        "id": "333d6f1d"
      },
      "source": [
        "# Learning Object Fundamentals in Python\n",
        "\n",
        "This notebook will guide you through the fundamentals of object-oriented programming (OOP) in Python, including `self`, instance methods, class methods, testing objects, and using SQLite."
      ]
    },
    {
      "cell_type": "markdown",
      "id": "9e28231a",
      "metadata": {
        "id": "9e28231a"
      },
      "source": [
        "## 1. Introduction to Object-Oriented Programming (OOP)\n",
        "\n",
        "**Object-Oriented Programming (OOP)** is a programming paradigm based on the concept of \"objects\", which are instances of classes.\n",
        "\n",
        "**Key OOP Principles**:\n",
        "\n",
        "- Encapsulation\n",
        "- Inheritance\n",
        "- Polymorphism\n",
        "- Abstraction\n",
        "\n",
        "### 1.1 Key Components of OOP in Python\n",
        "\n",
        "- **Classes**: Blueprints for creating objects.\n",
        "- **Objects**: Instances of classes.\n",
        "- **Attributes**: Variables within a class.\n",
        "- **Methods**: Functions within a class."
      ]
    },
    {
      "cell_type": "code",
      "execution_count": null,
      "id": "cba09194",
      "metadata": {
        "colab": {
          "base_uri": "https://localhost:8080/"
        },
        "id": "cba09194",
        "outputId": "e44090e4-2715-49f2-e5b0-ee2e9872b875"
      },
      "outputs": [
        {
          "output_type": "stream",
          "name": "stdout",
          "text": [
            "Hello, Alice!\n"
          ]
        }
      ],
      "source": [
        "# Example: Simple Class Definition\n",
        "class MyClass:\n",
        "    def __init__(self, name):\n",
        "        self.name = name\n",
        "\n",
        "    def greet(self):\n",
        "        print(f'Hello, {self.name}!')\n",
        "\n",
        "obj = MyClass('Alice')\n",
        "obj.greet()"
      ]
    },
    {
      "cell_type": "markdown",
      "id": "1466109a",
      "metadata": {
        "id": "1466109a"
      },
      "source": [
        "## 2. Understanding `self` in Python\n",
        "\n",
        "### 2.1 The Role of `self`\n",
        "\n",
        "`self` refers to the instance of the class and is used to access instance attributes and methods.\n",
        "\n",
        "### 2.2 Example with `self`"
      ]
    },
    {
      "cell_type": "code",
      "execution_count": null,
      "id": "80bf8d45",
      "metadata": {
        "colab": {
          "base_uri": "https://localhost:8080/"
        },
        "id": "80bf8d45",
        "outputId": "f2f1cbdf-6ae3-459b-91f6-73b0a0812a2a"
      },
      "outputs": [
        {
          "output_type": "stream",
          "name": "stdout",
          "text": [
            "John is 30 years old.\n"
          ]
        }
      ],
      "source": [
        "# Example with `self`\n",
        "class Person:\n",
        "    def __init__(self, name, age):\n",
        "        self.name = name\n",
        "        self.age = age\n",
        "\n",
        "    def display_info(self):\n",
        "        return f'{self.name} is {self.age} years old.'\n",
        "\n",
        "p1 = Person('John', 30)\n",
        "print(p1.display_info())"
      ]
    },
    {
      "cell_type": "markdown",
      "id": "c7c06ef5",
      "metadata": {
        "id": "c7c06ef5"
      },
      "source": [
        "## 3. Instance Methods vs. Class Methods\n",
        "\n",
        "### 3.1 Instance Methods\n",
        "\n",
        "Instance methods take `self` as their first parameter and can access instance-level attributes.\n",
        "\n",
        "### 3.2 Class Methods\n",
        "\n",
        "Class methods use the `@classmethod` decorator and take `cls` as their first parameter.\n",
        "\n",
        "### 3.3 Static Methods\n",
        "\n",
        "Static methods use the `@staticmethod` decorator and do not take `self` or `cls`."
      ]
    },
    {
      "cell_type": "code",
      "execution_count": null,
      "id": "d6666a6a",
      "metadata": {
        "colab": {
          "base_uri": "https://localhost:8080/"
        },
        "id": "d6666a6a",
        "outputId": "4b91d688-2af0-4873-828e-d8d4864603ca"
      },
      "outputs": [
        {
          "output_type": "stream",
          "name": "stdout",
          "text": [
            "Instance method called with 10\n",
            "Class method called. Total instances: 1\n",
            "Static method called\n"
          ]
        }
      ],
      "source": [
        "# Example: Class with Instance, Class, and Static Methods\n",
        "class Example:\n",
        "    class_counter = 0\n",
        "\n",
        "    def __init__(self, value):\n",
        "        self.value = value\n",
        "        Example.class_counter += 1\n",
        "\n",
        "    def instance_method(self):\n",
        "        return f'Instance method called with {self.value}'\n",
        "\n",
        "    @classmethod\n",
        "    def class_method(cls):\n",
        "        return f'Class method called. Total instances: {cls.class_counter}'\n",
        "\n",
        "    @staticmethod\n",
        "    def static_method():\n",
        "        return 'Static method called'\n",
        "\n",
        "obj = Example(10)\n",
        "print(obj.instance_method())\n",
        "print(Example.class_method())\n",
        "print(Example.static_method())"
      ]
    },
    {
      "cell_type": "markdown",
      "id": "934bae52",
      "metadata": {
        "id": "934bae52"
      },
      "source": [
        "## 4. Testing Objects in Python\n",
        "\n",
        "Testing objects ensures that your class methods work as expected.\n",
        "\n",
        "### 4.1 Writing Unit Tests for Objects\n",
        "\n",
        "The `unittest` library is commonly used for writing tests."
      ]
    },
    {
      "cell_type": "code",
      "execution_count": null,
      "id": "ec406f8e",
      "metadata": {
        "colab": {
          "base_uri": "https://localhost:8080/"
        },
        "id": "ec406f8e",
        "outputId": "4140035d-e949-4d27-f86f-93d4b7054547"
      },
      "outputs": [
        {
          "output_type": "stream",
          "name": "stderr",
          "text": [
            ".\n",
            "----------------------------------------------------------------------\n",
            "Ran 1 test in 0.002s\n",
            "\n",
            "OK\n"
          ]
        }
      ],
      "source": [
        "# Example: Unit Testing with unittest\n",
        "import unittest\n",
        "\n",
        "class TestPerson(unittest.TestCase):\n",
        "    def test_display_info(self):\n",
        "        person = Person('Alice', 28)\n",
        "        self.assertEqual(person.display_info(), 'Alice is 28 years old.')\n",
        "\n",
        "if __name__ == '__main__':\n",
        "    unittest.main(argv=[''], exit=False)"
      ]
    },
    {
      "cell_type": "markdown",
      "id": "f9bdb290",
      "metadata": {
        "id": "f9bdb290"
      },
      "source": [
        "## Practice Exercises\n",
        "\n",
        "1. Create a Python class representing a book, with methods for borrowing and returning it. Write tests for these methods.\n",
        "2. Expand the student database example by adding new features like GPA calculation, querying students by ID, and batch updates using SQLite.\n",
        "3. Use mock objects to simulate a different database in your tests."
      ]
    }
  ],
  "metadata": {
    "colab": {
      "provenance": [],
      "include_colab_link": true
    },
    "language_info": {
      "name": "python"
    },
    "kernelspec": {
      "name": "python3",
      "display_name": "Python 3"
    }
  },
  "nbformat": 4,
  "nbformat_minor": 5
}