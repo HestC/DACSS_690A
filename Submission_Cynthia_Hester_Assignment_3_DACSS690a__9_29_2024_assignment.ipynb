{
  "cells": [
    {
      "cell_type": "markdown",
      "metadata": {
        "id": "view-in-github",
        "colab_type": "text"
      },
      "source": [
        "<a href=\"https://colab.research.google.com/github/HestC/DACSS_690a/blob/main/Submission_Cynthia_Hester_Assignment_3_DACSS690a__9_29_2024_assignment.ipynb\" target=\"_parent\"><img src=\"https://colab.research.google.com/assets/colab-badge.svg\" alt=\"Open In Colab\"/></a>"
      ]
    },
    {
      "cell_type": "markdown",
      "id": "c8a0b8a7",
      "metadata": {
        "id": "c8a0b8a7"
      },
      "source": [
        "# Flask App for Downloading Data from JSONPlaceholder into ORM Models\n",
        "\n",
        "In this notebook, we will build a Flask app to download data from `jsonplaceholder.typicode.com`, store it in a database using SQLAlchemy ORM, and test the ORM models and relationships.\n",
        "\n",
        "We will create the following tables:\n",
        "- Users\n",
        "- Posts\n",
        "- Comments\n",
        "- Albums\n",
        "- Photos\n",
        "- Todos\n",
        "\n",
        "Let's get started!"
      ]
    },
    {
      "cell_type": "markdown",
      "id": "24b9f275",
      "metadata": {
        "id": "24b9f275"
      },
      "source": [
        "## 1. Flask Setup with SQLAlchemy ORM\n",
        "\n",
        "We will use Flask as the web framework and SQLAlchemy as the ORM to manage the database. First, let's initialize our app and configure the database."
      ]
    },
    {
      "cell_type": "code",
      "execution_count": null,
      "id": "de3ac81d",
      "metadata": {
        "id": "de3ac81d"
      },
      "outputs": [],
      "source": [
        "# Install necessary packages\n",
        "!pip install Flask SQLAlchemy requests pytest Flask-SQLAlchemy"
      ]
    },
    {
      "cell_type": "code",
      "execution_count": null,
      "id": "28561df9",
      "metadata": {
        "id": "28561df9"
      },
      "outputs": [],
      "source": [
        "# Flask app setup with SQLAlchemy ORM\n",
        "from flask import Flask\n",
        "from flask_sqlalchemy import SQLAlchemy\n",
        "\n",
        "app = Flask(__name__)\n",
        "app.config['SQLALCHEMY_DATABASE_URI'] = 'sqlite:///jsonplaceholder.db'\n",
        "app.config['SQLALCHEMY_TRACK_MODIFICATIONS'] = False\n",
        "\n",
        "db = SQLAlchemy(app)\n",
        "\n",
        "# Define the ORM models (place holder)"
      ]
    },
    {
      "cell_type": "code",
      "execution_count": null,
      "id": "417013cb",
      "metadata": {
        "id": "417013cb"
      },
      "outputs": [],
      "source": [
        "# User model\n",
        "class User(db.Model):\n",
        "    __tablename__ = 'users'\n",
        "    id = db.Column(db.Integer, primary_key=True)\n",
        "    name = db.Column(db.String(80))\n",
        "    username = db.Column(db.String(80))\n",
        "    email = db.Column(db.String(120))\n",
        "    address = db.Column(db.String(200))\n",
        "    phone = db.Column(db.String(20))\n",
        "    website = db.Column(db.String(100))\n",
        "    company = db.Column(db.String(100))\n",
        "\n",
        "    posts = db.relationship('Post', backref='user', lazy=True)\n",
        "    albums = db.relationship('Album', backref='user', lazy=True)\n",
        "    todos = db.relationship('Todo', backref='user', lazy=True)\n"
      ]
    },
    {
      "cell_type": "code",
      "execution_count": null,
      "id": "48943a95",
      "metadata": {
        "id": "48943a95"
      },
      "outputs": [],
      "source": [
        "# Post model\n",
        "class Post(db.Model):\n",
        "    __tablename__ = 'posts'\n",
        "    id = db.Column(db.Integer, primary_key=True)\n",
        "    user_id = db.Column(db.Integer, db.ForeignKey('users.id'), nullable=False)\n",
        "    title = db.Column(db.String(200))\n",
        "    body = db.Column(db.Text)\n",
        "\n",
        "    comments = db.relationship('Comment', backref='post', lazy=True)\n"
      ]
    },
    {
      "cell_type": "code",
      "execution_count": null,
      "id": "cc9f8b7d",
      "metadata": {
        "id": "cc9f8b7d"
      },
      "outputs": [],
      "source": [
        "# Comment model\n",
        "class Comment(db.Model):\n",
        "    __tablename__ = 'comments'\n",
        "    id = db.Column(db.Integer, primary_key=True)\n",
        "    post_id = db.Column(db.Integer, db.ForeignKey('posts.id'), nullable=False)\n",
        "    name = db.Column(db.String(80))\n",
        "    email = db.Column(db.String(120))\n",
        "    body = db.Column(db.Text)\n"
      ]
    },
    {
      "cell_type": "code",
      "execution_count": null,
      "id": "9ae660b1",
      "metadata": {
        "id": "9ae660b1"
      },
      "outputs": [],
      "source": [
        "# Album model\n",
        "class Album(db.Model):\n",
        "    __tablename__ = 'albums'\n",
        "    id = db.Column(db.Integer, primary_key=True)\n",
        "    user_id = db.Column(db.Integer, db.ForeignKey('users.id'), nullable=False)\n",
        "    title = db.Column(db.String(200))\n",
        "\n",
        "    photos = db.relationship('Photo', backref='album', lazy=True)\n"
      ]
    },
    {
      "cell_type": "code",
      "execution_count": null,
      "id": "9eef1dc7",
      "metadata": {
        "id": "9eef1dc7"
      },
      "outputs": [],
      "source": [
        "# Photo model\n",
        "class Photo(db.Model):\n",
        "    __tablename__ = 'photos'\n",
        "    id = db.Column(db.Integer, primary_key=True)\n",
        "    album_id = db.Column(db.Integer, db.ForeignKey('albums.id'), nullable=False)\n",
        "    title = db.Column(db.String(200))\n",
        "    url = db.Column(db.String(300))\n",
        "    thumbnail_url = db.Column(db.String(300))\n"
      ]
    },
    {
      "cell_type": "code",
      "execution_count": null,
      "id": "d191f904",
      "metadata": {
        "id": "d191f904"
      },
      "outputs": [],
      "source": [
        "# Todo model\n",
        "class Todo(db.Model):\n",
        "    __tablename__ = 'todos'\n",
        "    id = db.Column(db.Integer, primary_key=True)\n",
        "    user_id = db.Column(db.Integer, db.ForeignKey('users.id'), nullable=False)\n",
        "    title = db.Column(db.String(200))\n",
        "    completed = db.Column(db.Boolean)\n"
      ]
    },
    {
      "cell_type": "markdown",
      "id": "13fa9547",
      "metadata": {
        "id": "13fa9547"
      },
      "source": [
        "## 2. Downloading Data from JSONPlaceholder\n",
        "\n",
        "Now, let's write a function to download data from `jsonplaceholder.typicode.com` and insert it into our database."
      ]
    },
    {
      "cell_type": "code",
      "execution_count": null,
      "id": "55e49528",
      "metadata": {
        "id": "55e49528"
      },
      "outputs": [],
      "source": [
        "# Function to download and insert data from JSONPlaceholder\n",
        "import requests\n",
        "\n",
        "with app.app_context():\n",
        "  db.create_all()\n",
        "\n",
        "  def download_data():\n",
        "      # Download users\n",
        "      users = requests.get('https://jsonplaceholder.typicode.com/users').json()\n",
        "      for user_data in users:\n",
        "          user = User(id=user_data['id'], name=user_data['name'], username=user_data['username'],\n",
        "                    email=user_data['email'], address=str(user_data['address']), phone=user_data['phone'],\n",
        "                    website=user_data['website'], company=str(user_data['company']))\n",
        "          db.session.add(user)\n",
        "      db.session.commit()\n",
        "\n",
        "      # Download posts\n",
        "      posts = requests.get('https://jsonplaceholder.typicode.com/posts').json()\n",
        "      for post_data in posts:\n",
        "          post = Post(id=post_data['id'], user_id=post_data['userId'], title=post_data['title'],\n",
        "                      body=post_data['body'])\n",
        "          db.session.add(post)\n",
        "      db.session.commit()\n",
        "\n",
        "      # Download comments\n",
        "      comments = requests.get('https://jsonplaceholder.typicode.com/comments').json()\n",
        "      for comment_data in comments:\n",
        "          comment = Comment(id=comment_data['id'], post_id=comment_data['postId'],\n",
        "                        name=comment_data['name'], email=comment_data['email'], body=comment_data['body'])\n",
        "          db.session.add(comment)\n",
        "      db.session.commit()\n",
        "\n",
        "\n",
        "\n",
        "\n",
        "      # Download albums, photos, and todos similarly (completed code provided )\n",
        "\n",
        "\n",
        "      # download albums\n",
        "      albums = requests.get('https://jsonplaceholder.typicode.com/albums').json()\n",
        "      for album_data in albums:\n",
        "          album = Album(id=album_data['id'], user_id=album_data['userId'], title=album_data['title'])\n",
        "          db.session.add(album)\n",
        "      db.session.commit()\n",
        "\n",
        "      # download photos\n",
        "      photos = requests.get('https://jsonplaceholder.typicode.com/photos').json()\n",
        "      for photo_data in photos:\n",
        "          photo = Photo(id=photo_data['id'], album_id=photo_data['albumId'], title=photo_data['title'],\n",
        "                        url=photo_data['url'], thumbnail_url=photo_data['thumbnailUrl'])\n",
        "          db.session.add(photo)\n",
        "      db.session.commit()\n",
        "\n",
        "      # download todos\n",
        "      todos = requests.get('https://jsonplaceholder.typicode.com/todos').json()\n",
        "      for todo_data in todos:\n",
        "          todo = Todo(id=todo_data['id'], user_id=todo_data['userId'], title=todo_data['title'],\n",
        "                      completed=todo_data['completed'])\n",
        "          db.session.add(todo)\n",
        "      db.session.commit()\n",
        "\n",
        "\n",
        "\n",
        "\n",
        "\n",
        "\n",
        "\n",
        "\n",
        "\n",
        "\n",
        "\n",
        "\n",
        "  #download_data()"
      ]
    },
    {
      "cell_type": "markdown",
      "id": "748dba74",
      "metadata": {
        "id": "748dba74"
      },
      "source": [
        "## 3. Pytest for ORM Models and Relationships\n",
        "\n",
        "Let's now add unit tests using `pytest` to ensure our models and their relationships are correct."
      ]
    },
    {
      "cell_type": "code",
      "execution_count": null,
      "id": "5c54786d",
      "metadata": {
        "id": "5c54786d"
      },
      "outputs": [],
      "source": [
        "# Pytest setup\n",
        "import pytest\n",
        "\n",
        "@pytest.fixture(scope='module')\n",
        "def test_client():\n",
        "    app.config['TESTING'] = True\n",
        "    with app.test_client() as testing_client:\n",
        "        with app.app_context():\n",
        "            db.create_all()\n",
        "            yield testing_client\n",
        "            db.drop_all()\n"
      ]
    },
    {
      "cell_type": "code",
      "execution_count": null,
      "id": "a18a091b",
      "metadata": {
        "id": "a18a091b"
      },
      "outputs": [],
      "source": [
        "with app.app_context():\n",
        "    # Test for models and relationships\n",
        "    def test_user_creation(test_client):\n",
        "        user = User(name='Test User', username='testuser',\n",
        "                    email='test@example.com', address='Test Address', phone='1234567890',\n",
        "                    website='https://example.com', company='Test Company')\n",
        "        db.session.add(user)\n",
        "        db.session.commit()\n",
        "        assert user in db.session\n",
        "\n",
        "    def test_post_creation(test_client):\n",
        "        user = User.query.first()\n",
        "        post = Post(user_id=user.id, title='Test Post', body='Test Body')\n",
        "        db.session.add(post)\n",
        "        db.session.commit()\n",
        "        assert post in db.session\n",
        "\n",
        "    def test_comment_creation(test_client):\n",
        "        post = Post.query.first()\n",
        "        comment = Comment(post_id=post.id, name='Test Comment',\n",
        "                          email='comment@example.com', body='Comment Body')\n",
        "        db.session.add(comment)\n",
        "        db.session.commit()\n",
        "        assert comment in db.session\n",
        "\n",
        "\n",
        "\n",
        "\n",
        "\n",
        "\n",
        "\n",
        "   # Adding Pytest instances fro Albums,Photos and Todos\n",
        "\n",
        "\n",
        "\n",
        "\n",
        "with app.app_context():\n",
        "    # Test for models and relationships\n",
        "\n",
        "    # test for Album creation\n",
        "    def test_album_creation(test_client):\n",
        "        user = User.query.first()  # Ensure there is a user in the database\n",
        "        album = Album(user_id=user.id, title='Test Album')\n",
        "        db.session.add(album)\n",
        "        db.session.commit()\n",
        "        assert album in db.session\n",
        "\n",
        "    # test for Photo creation\n",
        "    def test_photo_creation(test_client):\n",
        "        album = Album.query.first()  # Ensure there is an album in the database\n",
        "        photo = Photo(album_id=album.id, title='Test Photo',\n",
        "                      url='https://example.com/photo.jpg', thumbnail_url='https://example.com/photo_thumb.jpg')\n",
        "        db.session.add(photo)\n",
        "        db.session.commit()\n",
        "        assert photo in db.session\n",
        "\n",
        "    # test for Todo creation\n",
        "    def test_todo_creation(test_client):\n",
        "        user = User.query.first()  # Ensure there is a user in the database\n",
        "        todo = Todo(user_id=user.id, title='Test Todo', completed=False)\n",
        "        db.session.add(todo)\n",
        "        db.session.commit()\n",
        "        assert todo in db.session\n"
      ]
    },
    {
      "cell_type": "markdown",
      "id": "9cb1d139",
      "metadata": {
        "id": "9cb1d139"
      },
      "source": [
        "\n",
        "## 4. Exercises: Querying Data and Relationships Using SQLAlchemy ORM with Unit Tests\n",
        "\n",
        "In these exercises, you will practice querying data and relationships using the SQLAlchemy ORM and writing unit tests using `pytest`. Each exercise focuses on specific relationships between models like Users, Posts, Comments, Albums, and Todos.\n",
        "\n",
        "Complete each exercise by writing the necessary query and writing a corresponding unit test."
      ]
    },
    {
      "cell_type": "markdown",
      "id": "1a967073",
      "metadata": {
        "id": "1a967073"
      },
      "source": [
        "### Exercise 1: Query All Users\n",
        "\n",
        "Write a query to retrieve all users from the `users` table and display their names and emails.\n",
        "\n",
        "**Unit Test**: Write a unit test that checks if at least one user exists in the database."
      ]
    },
    {
      "cell_type": "code",
      "execution_count": null,
      "id": "e91eab22",
      "metadata": {
        "id": "e91eab22"
      },
      "outputs": [],
      "source": [
        "with app.app_context():\n",
        "    # Query for all users\n",
        "    users = User.query.all()\n",
        "    for user in users:\n",
        "        print(user.name, user.email)\n",
        "\n",
        "    # Unit test example\n",
        "    def test_query_all_users(test_client):\n",
        "        users = User.query.all()\n",
        "        assert len(users) > 0"
      ]
    },
    {
      "cell_type": "code",
      "source": [
        "\n",
        "# Exercise 1\n",
        "\n",
        "\n",
        "with app.app_context():\n",
        "    # Query for all users with their names and emails\n",
        "    def query_all_users():\n",
        "        return [(user.name, user.email) for user in User.query.all()]\n",
        "\n",
        "    # unit test for querying all users\n",
        "    def test_query_all_users(test_client):\n",
        "        users = query_all_users()\n",
        "        assert len(users) > 0  # check that there is at least one user\n",
        "        assert isinstance(users[0], tuple)  # check that each entry is a tuple of (name, email)\n",
        "        assert len(users[0]) == 2  #\n",
        "\n",
        "        two elements: name and email\n",
        "\n",
        "\n",
        "\n",
        "# print output\n",
        "    users = query_all_users()\n",
        "    for name, email in users:\n",
        "        print(f\"Name: {name}, Email: {email}\")"
      ],
      "metadata": {
        "id": "kmQGCnDvIHRI"
      },
      "id": "kmQGCnDvIHRI",
      "execution_count": null,
      "outputs": []
    },
    {
      "cell_type": "markdown",
      "id": "04fcd3ba",
      "metadata": {
        "id": "04fcd3ba"
      },
      "source": [
        "\n",
        "### Exercise 2: Get Posts by a Specific User\n",
        "\n",
        "Write a query to retrieve all posts by a user with a specific username (e.g., `Bret`). Print the titles of the posts.\n",
        "\n",
        "**Unit Test**: Write a unit test that checks if the correct number of posts is returned for the user."
      ]
    },
    {
      "cell_type": "code",
      "execution_count": null,
      "id": "3da62983",
      "metadata": {
        "id": "3da62983"
      },
      "outputs": [],
      "source": [
        "\n",
        "# Exercise 2\n",
        "\n",
        "with app.app_context():\n",
        "    # Query for posts by a specific user\n",
        "\n",
        "\n",
        "    # unit test example\n",
        "    def test_query_user_posts(test_client):\n",
        "     # write the test here\n",
        "\n",
        "\n",
        "\n",
        "     with app.app_context():\n",
        "    # query for posts by a specific user\n",
        "      def get_posts_by_username(username):\n",
        "        user = User.query.filter_by(username=username).first()\n",
        "        return [post.title for post in user.posts] if user else []\n",
        "\n",
        "    # unit test for posts by specific user\n",
        "    def test_query_user_posts(test_client):\n",
        "        posts = get_posts_by_username('Bret')\n",
        "        user = User.query.filter_by(username='Bret').first()\n",
        "        expected_count = len(user.posts) if user else 0\n",
        "        assert len(posts) == expected_count  # check that the correct number of posts is returned\n"
      ]
    },
    {
      "cell_type": "code",
      "source": [
        "with app.app_context():\n",
        "    # query for posts by a specific user\n",
        "    def get_posts_by_username(username):\n",
        "        user = User.query.filter_by(username=username).first()\n",
        "        return [post.title for post in user.posts] if user else []\n",
        "\n",
        "    # unit test for posts by specific user\n",
        "    def test_query_user_posts(test_client):\n",
        "        posts = get_posts_by_username('Bret')\n",
        "        user = User.query.filter_by(username='Bret').first()\n",
        "        expected_count = len(user.posts) if user else 0\n",
        "        assert len(posts) == expected_count  # check that the correct number of posts is returned\n",
        "\n",
        "\n",
        "with app.app_context():\n",
        "    # query for posts by a specific user\n",
        "    posts = get_posts_by_username('Bret')\n",
        "    print(posts)  # output list of post titles for user 'Bret'\n",
        "\n",
        "\n",
        "\n",
        "\n",
        "\n",
        "\n"
      ],
      "metadata": {
        "id": "Vdol-pTkQdJu"
      },
      "id": "Vdol-pTkQdJu",
      "execution_count": null,
      "outputs": []
    },
    {
      "cell_type": "markdown",
      "id": "bd1fc27a",
      "metadata": {
        "id": "bd1fc27a"
      },
      "source": [
        "### Exercise 3: Get Comments on a Specific Post\n",
        "\n",
        "Write a query to retrieve all comments for a post with a specific title (e.g., `qui est esse`). Print the names and emails of the commenters.\n",
        "\n",
        "**Unit Test**: Write a unit test that checks if the comments are correctly associated with the post."
      ]
    },
    {
      "cell_type": "code",
      "execution_count": null,
      "id": "66d71417",
      "metadata": {
        "id": "66d71417"
      },
      "outputs": [],
      "source": [
        "# Exercise 3\n",
        "\n",
        "\n",
        "with app.app_context():\n",
        "  # query for comments on a specific post\n",
        "\n",
        "\n",
        "  # unit test example\n",
        "  def test_query_post_comments(test_client):\n",
        "      #write the test here\n",
        "\n",
        "\n",
        "#with app.app_context():\n",
        "    # Query for comments on a specific post\n",
        "    def get_comments_by_post_title(title):\n",
        "        post = Post.query.filter_by(title=title).first()\n",
        "        return [(comment.name, comment.email) for comment in post.comments] if post else []\n",
        "\n",
        "    # display output for comments on post titled 'qui est esse'\n",
        "    comments = get_comments_by_post_title('qui est esse')\n",
        "    for name, email in comments:\n",
        "        print(f\"Name: {name}, Email: {email}\")\n",
        "\n",
        "    # unit test for comments on a specific post\n",
        "    def test_query_post_comments(test_client):\n",
        "        comments = get_comments_by_post_title('qui est esse')\n",
        "        post = Post.query.filter_by(title='qui est esse').first()\n",
        "        expected_count = len(post.comments) if post else 0\n",
        "        assert len(comments) == expected_count  # check that the correct number of comments is returned\n",
        "\n",
        "\n",
        "  with app.app_context():\n",
        "    # list all post titles to confirm 'qui est esse' exists\n",
        "    posts = Post.query.all()\n",
        "    for post in posts:\n",
        "        print(f\"Post title: {post.title}\")\n",
        "\n"
      ]
    },
    {
      "cell_type": "code",
      "source": [
        "with app.app_context():\n",
        "    # query for comments on a specific post\n",
        "    def get_comments_by_post_title(title):\n",
        "        post = Post.query.filter_by(title=title).first()\n",
        "        return [(comment.name, comment.email) for comment in post.comments] if post else []\n",
        "\n",
        "    # display output for comments on post titled 'qui est esse'\n",
        "    comments = get_comments_by_post_title('qui est esse')\n",
        "    for name, email in comments:\n",
        "        print(f\"Name: {name}, Email: {email}\")\n",
        "\n",
        "    # unit test for comments on a specific post\n",
        "    def test_query_post_comments(test_client):\n",
        "        comments = get_comments_by_post_title('qui est esse')\n",
        "        post = Post.query.filter_by(title='qui est esse').first()\n",
        "        expected_count = len(post.comments) if post else 0\n",
        "        assert len(comments) == expected_count  # checking that the correct number of comments is returned\n",
        "\n",
        "    # query to confirm post titles in the database\n",
        "    posts = Post.query.all()\n",
        "    for post in posts:\n",
        "        print(f\"Post title: {post.title}\")\n"
      ],
      "metadata": {
        "id": "t2RF5xliVszH"
      },
      "id": "t2RF5xliVszH",
      "execution_count": null,
      "outputs": []
    },
    {
      "cell_type": "code",
      "source": [
        "\n",
        "# Comments and emails\n",
        "\n",
        "with app.app_context():\n",
        "    # query for comments on a specific post by title\n",
        "    def get_comments_by_post_title(title):\n",
        "        post = Post.query.filter_by(title=title).first()\n",
        "        return [(comment.name, comment.email) for comment in post.comments] if post else []\n",
        "\n",
        "    # print output for comments on post titled 'qui est esse'\n",
        "    comments = get_comments_by_post_title('qui est esse')\n",
        "    for name, email in comments:\n",
        "        print(f\"Name: {name}, Email: {email}\")\n",
        "\n",
        "\n",
        "\n",
        "\n",
        "        # ensure each comment tuple contains name and email fields\n",
        "        if comments:\n",
        "            for comment in comments:\n",
        "                assert len(comment) == 2  # should have 2 elements (name, email)\n",
        "                assert isinstance(comment[0], str)  # eame should be a string\n",
        "                assert isinstance(comment[1], str)  # email should be a string\n"
      ],
      "metadata": {
        "id": "hR9uIYNtWPjQ"
      },
      "id": "hR9uIYNtWPjQ",
      "execution_count": null,
      "outputs": []
    }
  ],
  "metadata": {
    "colab": {
      "provenance": [],
      "include_colab_link": true
    },
    "kernelspec": {
      "display_name": "Python 3",
      "name": "python3"
    },
    "language_info": {
      "name": "python"
    }
  },
  "nbformat": 4,
  "nbformat_minor": 5
}